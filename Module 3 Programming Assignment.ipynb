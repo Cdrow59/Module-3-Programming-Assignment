{
 "cells": [
  {
   "cell_type": "code",
   "execution_count": 26,
   "metadata": {},
   "outputs": [
    {
     "name": "stdout",
     "output_type": "stream",
     "text": [
      "['mozzarella', 'cinderella', 'salmonella']\n"
     ]
    }
   ],
   "source": [
    "things = [\"mozzarella\", \"cinderella\", \"salmonella\"]\n",
    "print(things)"
   ]
  },
  {
   "cell_type": "code",
   "execution_count": 27,
   "metadata": {},
   "outputs": [
    {
     "name": "stdout",
     "output_type": "stream",
     "text": [
      "['mozzarella', 'Cinderella', 'salmonella']\n",
      "Lists are differant\n"
     ]
    }
   ],
   "source": [
    "capital_things = things.copy()\n",
    "\n",
    "capital_things[1] = capital_things[1].capitalize()\n",
    "\n",
    "print(capital_things)\n",
    "\n",
    "if capital_things == things:\n",
    "    print(\"List are the same\")\n",
    "else:\n",
    "    print(\"Lists are differant\")"
   ]
  },
  {
   "cell_type": "code",
   "execution_count": 28,
   "metadata": {},
   "outputs": [
    {
     "name": "stdout",
     "output_type": "stream",
     "text": [
      "['MOZZARELLA', 'cinderella', 'salmonella']\n"
     ]
    }
   ],
   "source": [
    "cheesy_things = things.copy()\n",
    "\n",
    "cheesy_things[0] = cheesy_things[0].upper()\n",
    "\n",
    "print(cheesy_things)"
   ]
  },
  {
   "cell_type": "code",
   "execution_count": 29,
   "metadata": {},
   "outputs": [
    {
     "name": "stdout",
     "output_type": "stream",
     "text": [
      "Yay Nobel Prize Collected :)\n",
      "['mozzarella', 'cinderella']\n"
     ]
    }
   ],
   "source": [
    "disease_things = things.copy()\n",
    "\n",
    "disease_things.remove(\"salmonella\")\n",
    "\n",
    "if \"salmonella\" not in disease_things:\n",
    "    print(\"Yay Nobel Prize Collected :)\")\n",
    "else:\n",
    "    print(\"Not Cool Enough to Collect Nobel Prize :(\")\n",
    "\n",
    "print(disease_things)"
   ]
  },
  {
   "cell_type": "code",
   "execution_count": 16,
   "metadata": {},
   "outputs": [
    {
     "data": {
      "text/plain": [
       "['Harry', 'Ron', 'Hermione']"
      ]
     },
     "execution_count": 16,
     "metadata": {},
     "output_type": "execute_result"
    }
   ],
   "source": [
    "def good(good_list = ['Harry', 'Ron', 'Hermione']) -> list:\n",
    "    return good_list\n",
    "\n",
    "good()"
   ]
  },
  {
   "cell_type": "code",
   "execution_count": 25,
   "metadata": {},
   "outputs": [
    {
     "name": "stdout",
     "output_type": "stream",
     "text": [
      "The list is '[1, 3, 5, 7, 9]'\n",
      "The third item in the list is '5'\n"
     ]
    }
   ],
   "source": [
    "def get_odds(var_range=10) -> list:\n",
    "    odds = []\n",
    "    for num in range(var_range):\n",
    "        if num % 2 != 0:\n",
    "            odds.append(num)\n",
    "    return odds\n",
    "\n",
    "returned_list = get_odds()\n",
    "\n",
    "print(f\"The list is '{returned_list}'\")\n",
    "\n",
    "for index, item in enumerate(returned_list):\n",
    "    if index == 2:\n",
    "        print(f\"The third item in the list is '{item}'\")\n",
    "    else:\n",
    "        pass"
   ]
  }
 ],
 "metadata": {
  "kernelspec": {
   "display_name": "Python 3",
   "language": "python",
   "name": "python3"
  },
  "language_info": {
   "codemirror_mode": {
    "name": "ipython",
    "version": 3
   },
   "file_extension": ".py",
   "mimetype": "text/x-python",
   "name": "python",
   "nbconvert_exporter": "python",
   "pygments_lexer": "ipython3",
   "version": "3.13.1"
  }
 },
 "nbformat": 4,
 "nbformat_minor": 2
}
